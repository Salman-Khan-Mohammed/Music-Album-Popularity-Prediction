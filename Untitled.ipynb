{
 "cells": [
  {
   "cell_type": "markdown",
   "id": "d4805086",
   "metadata": {},
   "source": [
    "# Visualization Project  :- "
   ]
  },
  {
   "cell_type": "markdown",
   "id": "f49ea846",
   "metadata": {},
   "source": [
    "## Music Album Popularity Prediction "
   ]
  },
  {
   "cell_type": "code",
   "execution_count": 2,
   "id": "ef62dfb4",
   "metadata": {},
   "outputs": [],
   "source": [
    "# Merging the dataset"
   ]
  },
  {
   "cell_type": "code",
   "execution_count": 11,
   "id": "3fd0b9fe",
   "metadata": {},
   "outputs": [],
   "source": [
    "import pandas as pd\n",
    "\n",
    "# Loading train and test data\n",
    "train_data = pd.read_csv('train.csv')\n",
    "test_data = pd.read_csv('test.csv')\n",
    "\n",
    "# Adding a column to identify whether the row is from the training or test set\n",
    "train_data['is_train'] = 1\n",
    "test_data['is_train'] = 0\n",
    "\n",
    "# Concatenating the data\n",
    "merged_data = pd.concat([train_data, test_data], ignore_index=True)\n",
    "\n",
    "# Saving the merged data to a new CSV file\n",
    "merged_data.to_csv('new_data.csv', index=False)\n"
   ]
  },
  {
   "cell_type": "code",
   "execution_count": 10,
   "id": "2be2be15",
   "metadata": {},
   "outputs": [
    {
     "name": "stdout",
     "output_type": "stream",
     "text": [
      "Current Working Directory: C:\\Users\\salman_mohamm3d\\Desktop\\Visualization of AI ML\\project\\music album popularity prediction dataset\\archive (2)\n",
      "Files in Current Directory: ['.ipynb_checkpoints', 'sample_solution.csv', 'test.csv', 'train.csv', 'Untitled.ipynb']\n"
     ]
    }
   ],
   "source": [
    "import os\n",
    "\n",
    "# Print the current working directory\n",
    "print(\"Current Working Directory:\", os.getcwd())\n",
    "\n",
    "# Print the list of files in the current directory\n",
    "print(\"Files in Current Directory:\", os.listdir())\n"
   ]
  },
  {
   "cell_type": "code",
   "execution_count": null,
   "id": "24725d56",
   "metadata": {},
   "outputs": [],
   "source": []
  }
 ],
 "metadata": {
  "kernelspec": {
   "display_name": "Python 3 (ipykernel)",
   "language": "python",
   "name": "python3"
  },
  "language_info": {
   "codemirror_mode": {
    "name": "ipython",
    "version": 3
   },
   "file_extension": ".py",
   "mimetype": "text/x-python",
   "name": "python",
   "nbconvert_exporter": "python",
   "pygments_lexer": "ipython3",
   "version": "3.9.12"
  }
 },
 "nbformat": 4,
 "nbformat_minor": 5
}
